{
 "cells": [
  {
   "cell_type": "code",
   "execution_count": 44,
   "id": "073eb7f9",
   "metadata": {},
   "outputs": [
    {
     "name": "stdout",
     "output_type": "stream",
     "text": [
      "3.504753112792969e-05\n"
     ]
    }
   ],
   "source": [
    "#single thread file search\n",
    "\n",
    "import os\n",
    "from os.path import isdir,join\n",
    "\n",
    "matches=[]\n",
    "count=0\n",
    "\n",
    "def file_search(root,filename):\n",
    "    for file in os.listdir(root):\n",
    "        file_path=join(root,file) #eg /Users join navi.php-> /Users/navi.php\n",
    "        #print(\"Searching in \",file_path)\n",
    "        global count\n",
    "        count+=1\n",
    "        if filename in file:  #we could have done if filename==file but this will give us 23navi also as match for navi\n",
    "            matches.append(file_path)\n",
    "        if isdir(file_path): # if the file is a folder then isdir will return true\n",
    "            file_search(file_path,filename)  # we will do a search inside the new sub folder too\n",
    "\n",
    "file_search(\"/Users/navi/desktop\",\"README.md\")\n",
    "\n",
    "# for i in matches:\n",
    "#     print(f\"Match found: \", i)\n",
    "# print(\"Total file searched \",count)\n",
    "# print(\"Number of matching files \",len(matches))\n",
    "\n"
   ]
  },
  {
   "cell_type": "code",
   "execution_count": null,
   "id": "be990bea",
   "metadata": {},
   "outputs": [],
   "source": []
  },
  {
   "cell_type": "code",
   "execution_count": 45,
   "id": "8e0f7604",
   "metadata": {},
   "outputs": [
    {
     "name": "stdout",
     "output_type": "stream",
     "text": [
      "0.6544439792633057\n"
     ]
    }
   ],
   "source": [
    "# file search using multi threading \n",
    "\n",
    "from threading import Thread, Lock\n",
    "import os\n",
    "from os.path import isdir,join\n",
    "import time\n",
    "\n",
    "mutex=Lock()\n",
    "\n",
    "matching=[]\n",
    "\n",
    "def file_search(root, filename):\n",
    "    child_threads=[]\n",
    "    for file in os.listdir(root):\n",
    "        file_path=join(root,file)\n",
    "        if filename in file:\n",
    "            mutex.acquire()\n",
    "            matching.append(file_path)\n",
    "            mutex.release()\n",
    "        if isdir(file_path):\n",
    "            t=Thread(target=file_search,args=(file_path,filename))\n",
    "            t.start()\n",
    "            child_threads.append(t)\n",
    "    for i in child_threads:\n",
    "#         print(i)\n",
    "        i.join()\n",
    "\n",
    "        \n",
    "start=time.time()\n",
    "t=Thread(target=file_search,args=(\"/Users/navi/Desktop\",\"README.md\"))\n",
    "t.start()\n",
    "t.join()\n",
    "\n",
    "print(time.time()-start)\n",
    "# for i in matching:\n",
    "#     print(i)"
   ]
  },
  {
   "cell_type": "code",
   "execution_count": null,
   "id": "12e238ed",
   "metadata": {},
   "outputs": [],
   "source": []
  }
 ],
 "metadata": {
  "kernelspec": {
   "display_name": "Python 3",
   "language": "python",
   "name": "python3"
  },
  "language_info": {
   "codemirror_mode": {
    "name": "ipython",
    "version": 3
   },
   "file_extension": ".py",
   "mimetype": "text/x-python",
   "name": "python",
   "nbconvert_exporter": "python",
   "pygments_lexer": "ipython3",
   "version": "3.8.8"
  }
 },
 "nbformat": 4,
 "nbformat_minor": 5
}
