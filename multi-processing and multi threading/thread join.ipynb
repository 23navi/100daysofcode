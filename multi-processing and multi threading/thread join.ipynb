{
 "cells": [
  {
   "cell_type": "code",
   "execution_count": 12,
   "id": "7432001f",
   "metadata": {},
   "outputs": [
    {
     "name": "stdout",
     "output_type": "stream",
     "text": [
      "Starting the child threadParent waiting for child thread\n",
      "\n",
      "Child work finished\n",
      "Join done\n"
     ]
    }
   ],
   "source": [
    "from threading import Thread \n",
    "import time\n",
    "\n",
    "def child():\n",
    "    print(\"Starting the child thread\")\n",
    "    time.sleep(5)\n",
    "    print(\"Child work finished\")\n",
    "    \n",
    "def parent():\n",
    "    thr=Thread(target=child,args=())\n",
    "    thr.start()\n",
    "    print(\"Parent waiting for child thread\")\n",
    "    thr.join()\n",
    "    print(\"Join done\")\n",
    "    \n",
    "    \n",
    "parent()"
   ]
  },
  {
   "cell_type": "code",
   "execution_count": null,
   "id": "938f2f1c",
   "metadata": {},
   "outputs": [],
   "source": []
  }
 ],
 "metadata": {
  "kernelspec": {
   "display_name": "Python 3",
   "language": "python",
   "name": "python3"
  },
  "language_info": {
   "codemirror_mode": {
    "name": "ipython",
    "version": 3
   },
   "file_extension": ".py",
   "mimetype": "text/x-python",
   "name": "python",
   "nbconvert_exporter": "python",
   "pygments_lexer": "ipython3",
   "version": "3.8.8"
  }
 },
 "nbformat": 4,
 "nbformat_minor": 5
}
