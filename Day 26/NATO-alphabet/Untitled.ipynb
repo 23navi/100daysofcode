{
 "cells": [
  {
   "cell_type": "code",
   "execution_count": null,
   "id": "572031d3",
   "metadata": {},
   "outputs": [],
   "source": [
    "student_dict = {\n",
    "    \"student\": [\"Angela\", \"James\", \"Lily\"], \n",
    "    \"score\": [56, 76, 98]\n",
    "}\n",
    "\n",
    "#Looping through dictionaries:\n",
    "for (a,b) in student_dict.items():\n",
    "    pass\n",
    "\n",
    "import pandas\n",
    "student_data_frame = pandas.DataFrame(student_dict)\n",
    "\n",
    "#Loop through rows of a data frame\n",
    "for (index, row) in student_data_frame.iterrows():\n",
    "    pass\n",
    "\n",
    "# Keyword Method with iterrows()\n",
    "# {new_key:new_value for (index, row) in df.iterrows()}\n",
    "\n",
    "#TODO 1. Create a dictionary in this format:\n",
    "{\"A\": \"Alfa\", \"B\": \"Bravo\"}\n",
    "\n",
    "#TODO 2. Create a list of the phonetic code words from a word that the user inputs.\n",
    "\n"
   ]
  },
  {
   "cell_type": "code",
   "execution_count": null,
   "id": "722b4486",
   "metadata": {},
   "outputs": [],
   "source": [
    "import pandas as pd\n",
    "data=pd.read_csv(\"nato_phonetic_alphabet.csv\")"
   ]
  },
  {
   "cell_type": "code",
   "execution_count": null,
   "id": "bf756466",
   "metadata": {},
   "outputs": [],
   "source": [
    "dic={ row[0]:row[1] for (index,row) in data.iterrows()}"
   ]
  },
  {
   "cell_type": "code",
   "execution_count": null,
   "id": "ffc338d8",
   "metadata": {},
   "outputs": [],
   "source": [
    "word=input(\"Enter the word   \")\n",
    "print(word,\":\",end=\" \")\n",
    "for i in word:\n",
    "    \n",
    "    print(i.upper(), \" for \",dic[i.upper()],end=\", \")"
   ]
  },
  {
   "cell_type": "code",
   "execution_count": 1,
   "id": "4e7b7d07",
   "metadata": {},
   "outputs": [],
   "source": [
    "import tkinter"
   ]
  },
  {
   "cell_type": "code",
   "execution_count": 2,
   "id": "8c01ee46",
   "metadata": {},
   "outputs": [],
   "source": [
    "window=tkinter.Tk()\n",
    "\n",
    "window.title(\"Navi\")\n",
    "\n",
    "\n",
    "\n",
    "\n",
    "\n",
    "\n",
    "window.mainloop()"
   ]
  },
  {
   "cell_type": "code",
   "execution_count": null,
   "id": "0645ab15",
   "metadata": {},
   "outputs": [],
   "source": []
  }
 ],
 "metadata": {
  "kernelspec": {
   "display_name": "Python 3",
   "language": "python",
   "name": "python3"
  },
  "language_info": {
   "codemirror_mode": {
    "name": "ipython",
    "version": 3
   },
   "file_extension": ".py",
   "mimetype": "text/x-python",
   "name": "python",
   "nbconvert_exporter": "python",
   "pygments_lexer": "ipython3",
   "version": "3.8.8"
  }
 },
 "nbformat": 4,
 "nbformat_minor": 5
}
